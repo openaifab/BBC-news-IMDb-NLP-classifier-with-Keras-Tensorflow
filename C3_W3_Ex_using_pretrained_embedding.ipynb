{
 "cells": [
  {
   "cell_type": "code",
   "execution_count": 1,
   "metadata": {
    "colab": {
     "base_uri": "https://localhost:8080/",
     "height": 62
    },
    "colab_type": "code",
    "id": "hmA6EzkQJ5jt",
    "outputId": "eb03baa2-e2eb-494b-b1d5-c33fbf412194"
   },
   "outputs": [
    {
     "data": {
      "text/html": [
       "<p style=\"color: red;\">\n",
       "The default version of TensorFlow in Colab will soon switch to TensorFlow 2.x.<br>\n",
       "We recommend you <a href=\"https://www.tensorflow.org/guide/migrate\" target=\"_blank\">upgrade</a> now \n",
       "or ensure your notebook will continue to use TensorFlow 1.x via the <code>%tensorflow_version 1.x</code> magic:\n",
       "<a href=\"https://colab.research.google.com/notebooks/tensorflow_version.ipynb\" target=\"_blank\">more info</a>.</p>\n"
      ],
      "text/plain": [
       "<IPython.core.display.HTML object>"
      ]
     },
     "metadata": {
      "tags": []
     },
     "output_type": "display_data"
    }
   ],
   "source": [
    "import json\n",
    "import tensorflow as tf\n",
    "import csv\n",
    "import random\n",
    "import numpy as np\n",
    "\n",
    "from tensorflow.keras.preprocessing.text import Tokenizer\n",
    "from tensorflow.keras.preprocessing.sequence import pad_sequences\n",
    "from tensorflow.keras.utils import to_categorical\n",
    "from tensorflow.keras import regularizers\n",
    "\n",
    "\n",
    "embedding_dim = 100\n",
    "max_length = 16\n",
    "trunc_type='post'\n",
    "padding_type='post'\n",
    "oov_tok = \"<OOV>\"\n",
    "training_size=160000\n",
    "test_portion=.1\n",
    "\n",
    "corpus = []\n"
   ]
  },
  {
   "cell_type": "code",
   "execution_count": 2,
   "metadata": {
    "colab": {
     "base_uri": "https://localhost:8080/",
     "height": 202
    },
    "colab_type": "code",
    "id": "bM0l_dORKqE0",
    "outputId": "d8994922-2b13-417b-f8e8-b8e40435e824"
   },
   "outputs": [
    {
     "name": "stdout",
     "output_type": "stream",
     "text": [
      "--2019-12-30 05:51:32--  https://storage.googleapis.com/laurencemoroney-blog.appspot.com/training_cleaned.csv\n",
      "Resolving storage.googleapis.com (storage.googleapis.com)... 172.217.5.80, 2607:f8b0:4007:802::2010\n",
      "Connecting to storage.googleapis.com (storage.googleapis.com)|172.217.5.80|:443... connected.\n",
      "HTTP request sent, awaiting response... 200 OK\n",
      "Length: 238942690 (228M) [application/octet-stream]\n",
      "Saving to: ‘/tmp/training_cleaned.csv’\n",
      "\n",
      "/tmp/training_clean 100%[===================>] 227.87M  92.9MB/s    in 2.5s    \n",
      "\n",
      "2019-12-30 05:51:35 (92.9 MB/s) - ‘/tmp/training_cleaned.csv’ saved [238942690/238942690]\n",
      "\n"
     ]
    }
   ],
   "source": [
    "\n",
    "# Note that I cleaned the Stanford dataset to remove LATIN1 encoding to make it easier for Python CSV reader\n",
    "# You can do that yourself with:\n",
    "# iconv -f LATIN1 -t UTF8 training.1600000.processed.noemoticon.csv -o training_cleaned.csv\n",
    "# I then hosted it on my site to make it easier to use in this notebook\n",
    "\n",
    "!wget --no-check-certificate \\\n",
    "    https://storage.googleapis.com/laurencemoroney-blog.appspot.com/training_cleaned.csv \\\n",
    "    -O /tmp/training_cleaned.csv\n",
    "\n",
    "num_sentences = 0\n",
    "\n",
    "with open(\"/tmp/training_cleaned.csv\") as csvfile:\n",
    "    reader = csv.reader(csvfile, delimiter=',')\n",
    "    for row in reader:\n",
    "        list_item=[]\n",
    "        list_item.append(row[5])\n",
    "        this_label=row[0]\n",
    "        if this_label=='0':\n",
    "            list_item.append(0)\n",
    "        else:\n",
    "            list_item.append(1)\n",
    "        num_sentences = num_sentences + 1\n",
    "        corpus.append(list_item)\n",
    "\n",
    "\n"
   ]
  },
  {
   "cell_type": "code",
   "execution_count": 3,
   "metadata": {
    "colab": {
     "base_uri": "https://localhost:8080/",
     "height": 67
    },
    "colab_type": "code",
    "id": "3kxblBUjEUX-",
    "outputId": "d2404a48-01b2-4cf1-e3c1-0b92864bc90a"
   },
   "outputs": [
    {
     "name": "stdout",
     "output_type": "stream",
     "text": [
      "1600000\n",
      "1600000\n",
      "[\"is upset that he can't update his Facebook by texting it... and might cry as a result  School today also. Blah!\", 0]\n"
     ]
    }
   ],
   "source": [
    "print(num_sentences)\n",
    "print(len(corpus))\n",
    "print(corpus[1])\n",
    "\n",
    "# Expected Output:\n",
    "# 1600000\n",
    "# 1600000\n",
    "# [\"is upset that he can't update his Facebook by texting it... and might cry as a result  School today also. Blah!\", 0]"
   ]
  },
  {
   "cell_type": "code",
   "execution_count": 0,
   "metadata": {
    "colab": {},
    "colab_type": "code",
    "id": "ohOGz24lsNAD"
   },
   "outputs": [],
   "source": [
    "sentences=[]\n",
    "labels=[]\n",
    "random.shuffle(corpus)\n",
    "for x in range(training_size):\n",
    "    sentences.append(corpus[x][0])\n",
    "    labels.append(corpus[x][1])\n",
    "\n",
    "\n",
    "tokenizer = Tokenizer()\n",
    "tokenizer.fit_on_texts(sentences)\n",
    "\n",
    "word_index = tokenizer.word_index\n",
    "vocab_size=len(word_index)\n",
    "\n",
    "sequences = tokenizer.texts_to_sequences(sentences)\n",
    "padded = pad_sequences(sequences, maxlen=max_length, padding=padding_type, truncating=trunc_type)\n",
    "\n",
    "split = int(test_portion * training_size)\n",
    "\n",
    "test_sequences = padded[0:split]\n",
    "training_sequences = padded[split:training_size]\n",
    "test_labels = labels[0:split]\n",
    "training_labels = labels[split:training_size]"
   ]
  },
  {
   "cell_type": "code",
   "execution_count": 5,
   "metadata": {
    "colab": {
     "base_uri": "https://localhost:8080/",
     "height": 50
    },
    "colab_type": "code",
    "id": "gIrtRem1En3N",
    "outputId": "d6ec775e-6a55-4668-b8db-b42f4a4d4b82"
   },
   "outputs": [
    {
     "name": "stdout",
     "output_type": "stream",
     "text": [
      "138766\n",
      "1\n"
     ]
    }
   ],
   "source": [
    "print(vocab_size)\n",
    "print(word_index['i'])\n",
    "# Expected Output\n",
    "# 138858\n",
    "# 1"
   ]
  },
  {
   "cell_type": "code",
   "execution_count": 6,
   "metadata": {
    "colab": {
     "base_uri": "https://localhost:8080/",
     "height": 202
    },
    "colab_type": "code",
    "id": "C1zdgJkusRh0",
    "outputId": "d2b13c8f-db73-42b6-e02a-f394ae374e60"
   },
   "outputs": [
    {
     "name": "stdout",
     "output_type": "stream",
     "text": [
      "--2019-12-30 05:51:49--  https://storage.googleapis.com/laurencemoroney-blog.appspot.com/glove.6B.100d.txt\n",
      "Resolving storage.googleapis.com (storage.googleapis.com)... 172.217.14.112, 2607:f8b0:4007:80e::2010\n",
      "Connecting to storage.googleapis.com (storage.googleapis.com)|172.217.14.112|:443... connected.\n",
      "HTTP request sent, awaiting response... 200 OK\n",
      "Length: 347116733 (331M) [text/plain]\n",
      "Saving to: ‘/tmp/glove.6B.100d.txt’\n",
      "\n",
      "/tmp/glove.6B.100d. 100%[===================>] 331.04M   157MB/s    in 2.1s    \n",
      "\n",
      "2019-12-30 05:51:52 (157 MB/s) - ‘/tmp/glove.6B.100d.txt’ saved [347116733/347116733]\n",
      "\n"
     ]
    }
   ],
   "source": [
    "# Note this is the 100 dimension version of GloVe from Stanford\n",
    "# I unzipped and hosted it on my site to make this notebook easier\n",
    "!wget --no-check-certificate \\\n",
    "    https://storage.googleapis.com/laurencemoroney-blog.appspot.com/glove.6B.100d.txt \\\n",
    "    -O /tmp/glove.6B.100d.txt\n",
    "embeddings_index = {};\n",
    "with open('/tmp/glove.6B.100d.txt') as f:\n",
    "    for line in f:\n",
    "        values = line.split();\n",
    "        word = values[0];\n",
    "        coefs = np.asarray(values[1:], dtype='float32');\n",
    "        embeddings_index[word] = coefs;\n",
    "\n",
    "embeddings_matrix = np.zeros((vocab_size+1, embedding_dim));\n",
    "for word, i in word_index.items():\n",
    "    embedding_vector = embeddings_index.get(word);\n",
    "    if embedding_vector is not None:\n",
    "        embeddings_matrix[i] = embedding_vector;"
   ]
  },
  {
   "cell_type": "code",
   "execution_count": 7,
   "metadata": {
    "colab": {
     "base_uri": "https://localhost:8080/",
     "height": 34
    },
    "colab_type": "code",
    "id": "71NLk_lpFLNt",
    "outputId": "391ed5b9-7304-4899-81e2-7f84aabb9f1a"
   },
   "outputs": [
    {
     "name": "stdout",
     "output_type": "stream",
     "text": [
      "138767\n"
     ]
    }
   ],
   "source": [
    "print(len(embeddings_matrix))\n",
    "# Expected Output\n",
    "# 138859"
   ]
  },
  {
   "cell_type": "code",
   "execution_count": 8,
   "metadata": {
    "colab": {
     "base_uri": "https://localhost:8080/",
     "height": 1000
    },
    "colab_type": "code",
    "id": "iKKvbuEBOGFz",
    "outputId": "4be18ac0-0f07-459f-a26a-2806bd24f401"
   },
   "outputs": [
    {
     "name": "stdout",
     "output_type": "stream",
     "text": [
      "WARNING:tensorflow:From /usr/local/lib/python3.6/dist-packages/tensorflow_core/python/keras/initializers.py:119: calling RandomUniform.__init__ (from tensorflow.python.ops.init_ops) with dtype is deprecated and will be removed in a future version.\n",
      "Instructions for updating:\n",
      "Call initializer instance with the dtype argument instead of passing it to the constructor\n",
      "WARNING:tensorflow:From /usr/local/lib/python3.6/dist-packages/tensorflow_core/python/ops/resource_variable_ops.py:1630: calling BaseResourceVariable.__init__ (from tensorflow.python.ops.resource_variable_ops) with constraint is deprecated and will be removed in a future version.\n",
      "Instructions for updating:\n",
      "If using Keras pass *_constraint arguments to layers.\n",
      "WARNING:tensorflow:From /usr/local/lib/python3.6/dist-packages/tensorflow_core/python/ops/nn_impl.py:183: where (from tensorflow.python.ops.array_ops) is deprecated and will be removed in a future version.\n",
      "Instructions for updating:\n",
      "Use tf.where in 2.0, which has the same broadcast rule as np.where\n",
      "Model: \"sequential\"\n",
      "_________________________________________________________________\n",
      "Layer (type)                 Output Shape              Param #   \n",
      "=================================================================\n",
      "embedding (Embedding)        (None, 16, 100)           13876700  \n",
      "_________________________________________________________________\n",
      "dropout (Dropout)            (None, 16, 100)           0         \n",
      "_________________________________________________________________\n",
      "conv1d (Conv1D)              (None, 12, 64)            32064     \n",
      "_________________________________________________________________\n",
      "max_pooling1d (MaxPooling1D) (None, 3, 64)             0         \n",
      "_________________________________________________________________\n",
      "lstm (LSTM)                  (None, 64)                33024     \n",
      "_________________________________________________________________\n",
      "dense (Dense)                (None, 1)                 65        \n",
      "=================================================================\n",
      "Total params: 13,941,853\n",
      "Trainable params: 65,153\n",
      "Non-trainable params: 13,876,700\n",
      "_________________________________________________________________\n",
      "Train on 144000 samples, validate on 16000 samples\n",
      "Epoch 1/50\n",
      "144000/144000 - 39s - loss: 0.5674 - acc: 0.6986 - val_loss: 0.5208 - val_acc: 0.7369\n",
      "Epoch 2/50\n",
      "144000/144000 - 32s - loss: 0.5275 - acc: 0.7321 - val_loss: 0.5161 - val_acc: 0.7392\n",
      "Epoch 3/50\n",
      "144000/144000 - 32s - loss: 0.5111 - acc: 0.7436 - val_loss: 0.5032 - val_acc: 0.7504\n",
      "Epoch 4/50\n",
      "144000/144000 - 32s - loss: 0.5011 - acc: 0.7505 - val_loss: 0.4984 - val_acc: 0.7541\n",
      "Epoch 5/50\n",
      "144000/144000 - 31s - loss: 0.4916 - acc: 0.7581 - val_loss: 0.5044 - val_acc: 0.7461\n",
      "Epoch 6/50\n",
      "144000/144000 - 32s - loss: 0.4848 - acc: 0.7613 - val_loss: 0.4994 - val_acc: 0.7519\n",
      "Epoch 7/50\n",
      "144000/144000 - 32s - loss: 0.4793 - acc: 0.7651 - val_loss: 0.5005 - val_acc: 0.7517\n",
      "Epoch 8/50\n",
      "144000/144000 - 32s - loss: 0.4746 - acc: 0.7676 - val_loss: 0.5000 - val_acc: 0.7531\n",
      "Epoch 9/50\n",
      "144000/144000 - 32s - loss: 0.4699 - acc: 0.7707 - val_loss: 0.5125 - val_acc: 0.7449\n",
      "Epoch 10/50\n",
      "144000/144000 - 32s - loss: 0.4671 - acc: 0.7723 - val_loss: 0.5013 - val_acc: 0.7543\n",
      "Epoch 11/50\n",
      "144000/144000 - 33s - loss: 0.4627 - acc: 0.7754 - val_loss: 0.4956 - val_acc: 0.7604\n",
      "Epoch 12/50\n",
      "144000/144000 - 31s - loss: 0.4604 - acc: 0.7773 - val_loss: 0.5139 - val_acc: 0.7483\n",
      "Epoch 13/50\n",
      "144000/144000 - 33s - loss: 0.4576 - acc: 0.7777 - val_loss: 0.5018 - val_acc: 0.7576\n",
      "Epoch 14/50\n",
      "144000/144000 - 32s - loss: 0.4562 - acc: 0.7795 - val_loss: 0.5018 - val_acc: 0.7568\n",
      "Epoch 15/50\n",
      "144000/144000 - 31s - loss: 0.4542 - acc: 0.7794 - val_loss: 0.4977 - val_acc: 0.7559\n",
      "Epoch 16/50\n",
      "144000/144000 - 32s - loss: 0.4516 - acc: 0.7827 - val_loss: 0.4999 - val_acc: 0.7548\n",
      "Epoch 17/50\n",
      "144000/144000 - 33s - loss: 0.4495 - acc: 0.7846 - val_loss: 0.5023 - val_acc: 0.7569\n",
      "Epoch 18/50\n",
      "144000/144000 - 33s - loss: 0.4472 - acc: 0.7854 - val_loss: 0.5027 - val_acc: 0.7583\n",
      "Epoch 19/50\n",
      "144000/144000 - 33s - loss: 0.4470 - acc: 0.7867 - val_loss: 0.5070 - val_acc: 0.7580\n",
      "Epoch 20/50\n",
      "144000/144000 - 33s - loss: 0.4461 - acc: 0.7856 - val_loss: 0.5036 - val_acc: 0.7582\n",
      "Epoch 21/50\n",
      "144000/144000 - 33s - loss: 0.4437 - acc: 0.7854 - val_loss: 0.5115 - val_acc: 0.7551\n",
      "Epoch 22/50\n",
      "144000/144000 - 32s - loss: 0.4429 - acc: 0.7882 - val_loss: 0.5055 - val_acc: 0.7549\n",
      "Epoch 23/50\n",
      "144000/144000 - 32s - loss: 0.4424 - acc: 0.7881 - val_loss: 0.5061 - val_acc: 0.7536\n",
      "Epoch 24/50\n",
      "144000/144000 - 32s - loss: 0.4416 - acc: 0.7872 - val_loss: 0.5043 - val_acc: 0.7563\n",
      "Epoch 25/50\n",
      "144000/144000 - 32s - loss: 0.4402 - acc: 0.7887 - val_loss: 0.5063 - val_acc: 0.7549\n",
      "Epoch 26/50\n",
      "144000/144000 - 32s - loss: 0.4409 - acc: 0.7887 - val_loss: 0.5083 - val_acc: 0.7564\n",
      "Epoch 27/50\n",
      "144000/144000 - 32s - loss: 0.4385 - acc: 0.7897 - val_loss: 0.5158 - val_acc: 0.7532\n",
      "Epoch 28/50\n",
      "144000/144000 - 32s - loss: 0.4380 - acc: 0.7907 - val_loss: 0.5104 - val_acc: 0.7556\n",
      "Epoch 29/50\n",
      "144000/144000 - 33s - loss: 0.4381 - acc: 0.7900 - val_loss: 0.5069 - val_acc: 0.7569\n",
      "Epoch 30/50\n",
      "144000/144000 - 32s - loss: 0.4355 - acc: 0.7922 - val_loss: 0.5108 - val_acc: 0.7531\n",
      "Epoch 31/50\n",
      "144000/144000 - 32s - loss: 0.4362 - acc: 0.7922 - val_loss: 0.5131 - val_acc: 0.7518\n",
      "Epoch 32/50\n",
      "144000/144000 - 32s - loss: 0.4357 - acc: 0.7918 - val_loss: 0.5091 - val_acc: 0.7539\n",
      "Epoch 33/50\n",
      "144000/144000 - 32s - loss: 0.4356 - acc: 0.7919 - val_loss: 0.5157 - val_acc: 0.7551\n",
      "Epoch 34/50\n",
      "144000/144000 - 32s - loss: 0.4348 - acc: 0.7927 - val_loss: 0.5108 - val_acc: 0.7549\n",
      "Epoch 35/50\n",
      "144000/144000 - 32s - loss: 0.4357 - acc: 0.7924 - val_loss: 0.5097 - val_acc: 0.7517\n",
      "Epoch 36/50\n",
      "144000/144000 - 32s - loss: 0.4345 - acc: 0.7940 - val_loss: 0.5093 - val_acc: 0.7541\n",
      "Epoch 37/50\n",
      "144000/144000 - 33s - loss: 0.4319 - acc: 0.7935 - val_loss: 0.5126 - val_acc: 0.7538\n",
      "Epoch 38/50\n",
      "144000/144000 - 33s - loss: 0.4346 - acc: 0.7925 - val_loss: 0.5106 - val_acc: 0.7539\n",
      "Epoch 39/50\n",
      "144000/144000 - 32s - loss: 0.4332 - acc: 0.7928 - val_loss: 0.5177 - val_acc: 0.7507\n",
      "Epoch 40/50\n",
      "144000/144000 - 32s - loss: 0.4334 - acc: 0.7930 - val_loss: 0.5130 - val_acc: 0.7566\n",
      "Epoch 41/50\n",
      "144000/144000 - 33s - loss: 0.4327 - acc: 0.7943 - val_loss: 0.5158 - val_acc: 0.7531\n",
      "Epoch 42/50\n",
      "144000/144000 - 33s - loss: 0.4322 - acc: 0.7937 - val_loss: 0.5146 - val_acc: 0.7549\n",
      "Epoch 43/50\n",
      "144000/144000 - 32s - loss: 0.4301 - acc: 0.7953 - val_loss: 0.5116 - val_acc: 0.7529\n",
      "Epoch 44/50\n",
      "144000/144000 - 33s - loss: 0.4305 - acc: 0.7947 - val_loss: 0.5093 - val_acc: 0.7567\n",
      "Epoch 45/50\n",
      "144000/144000 - 33s - loss: 0.4302 - acc: 0.7964 - val_loss: 0.5084 - val_acc: 0.7529\n",
      "Epoch 46/50\n",
      "144000/144000 - 33s - loss: 0.4309 - acc: 0.7952 - val_loss: 0.5091 - val_acc: 0.7552\n",
      "Epoch 47/50\n",
      "144000/144000 - 33s - loss: 0.4313 - acc: 0.7952 - val_loss: 0.5074 - val_acc: 0.7555\n",
      "Epoch 48/50\n",
      "144000/144000 - 32s - loss: 0.4302 - acc: 0.7956 - val_loss: 0.5124 - val_acc: 0.7542\n",
      "Epoch 49/50\n",
      "144000/144000 - 33s - loss: 0.4299 - acc: 0.7951 - val_loss: 0.5103 - val_acc: 0.7514\n",
      "Epoch 50/50\n",
      "144000/144000 - 33s - loss: 0.4301 - acc: 0.7940 - val_loss: 0.5151 - val_acc: 0.7526\n",
      "Training Complete\n"
     ]
    }
   ],
   "source": [
    "model = tf.keras.Sequential([\n",
    "    tf.keras.layers.Embedding(vocab_size+1, embedding_dim, input_length=max_length, weights=[embeddings_matrix], trainable=False),\n",
    "    tf.keras.layers.Dropout(0.2),\n",
    "    tf.keras.layers.Conv1D(64, 5, activation='relu'),\n",
    "    tf.keras.layers.MaxPooling1D(pool_size=4),\n",
    "    tf.keras.layers.LSTM(64),\n",
    "    tf.keras.layers.Dense(1, activation='sigmoid')\n",
    "])\n",
    "model.compile(loss='binary_crossentropy',optimizer='adam',metrics=['accuracy'])\n",
    "model.summary()\n",
    "\n",
    "num_epochs = 50\n",
    "history = model.fit(training_sequences, training_labels, epochs=num_epochs, validation_data=(test_sequences, test_labels), verbose=2)\n",
    "\n",
    "print(\"Training Complete\")\n"
   ]
  },
  {
   "cell_type": "code",
   "execution_count": 9,
   "metadata": {
    "colab": {
     "base_uri": "https://localhost:8080/",
     "height": 606
    },
    "colab_type": "code",
    "id": "qxju4ItJKO8F",
    "outputId": "22fb474f-92a8-47e0-efce-ef1a85102cf3"
   },
   "outputs": [
    {
     "data": {
      "text/plain": [
       "<Figure size 432x288 with 0 Axes>"
      ]
     },
     "execution_count": 9,
     "metadata": {
      "tags": []
     },
     "output_type": "execute_result"
    },
    {
     "data": {
      "image/png": "[encoded data removed]",
      "text/plain": [
       "<Figure size 432x288 with 1 Axes>"
      ]
     },
     "metadata": {
      "tags": []
     },
     "output_type": "display_data"
    },
    {
     "data": {
      "image/png": "[encoded data removed]",
      "text/plain": [
       "<Figure size 432x288 with 1 Axes>"
      ]
     },
     "metadata": {
      "tags": []
     },
     "output_type": "display_data"
    },
    {
     "data": {
      "text/plain": [
       "<Figure size 432x288 with 0 Axes>"
      ]
     },
     "metadata": {
      "tags": []
     },
     "output_type": "display_data"
    }
   ],
   "source": [
    "import matplotlib.image  as mpimg\n",
    "import matplotlib.pyplot as plt\n",
    "\n",
    "#-----------------------------------------------------------\n",
    "# Retrieve a list of list results on training and test data\n",
    "# sets for each training epoch\n",
    "#-----------------------------------------------------------\n",
    "acc=history.history['acc']\n",
    "val_acc=history.history['val_acc']\n",
    "loss=history.history['loss']\n",
    "val_loss=history.history['val_loss']\n",
    "\n",
    "epochs=range(len(acc)) # Get number of epochs\n",
    "\n",
    "#------------------------------------------------\n",
    "# Plot training and validation accuracy per epoch\n",
    "#------------------------------------------------\n",
    "plt.plot(epochs, acc, 'r')\n",
    "plt.plot(epochs, val_acc, 'b')\n",
    "plt.title('Training and validation accuracy')\n",
    "plt.xlabel(\"Epochs\")\n",
    "plt.ylabel(\"Accuracy\")\n",
    "plt.legend([\"Accuracy\", \"Validation Accuracy\"])\n",
    "\n",
    "plt.figure()\n",
    "\n",
    "#------------------------------------------------\n",
    "# Plot training and validation loss per epoch\n",
    "#------------------------------------------------\n",
    "plt.plot(epochs, loss, 'r')\n",
    "plt.plot(epochs, val_loss, 'b')\n",
    "plt.title('Training and validation loss')\n",
    "plt.xlabel(\"Epochs\")\n",
    "plt.ylabel(\"Loss\")\n",
    "plt.legend([\"Loss\", \"Validation Loss\"])\n",
    "\n",
    "plt.figure()\n",
    "\n",
    "\n",
    "# Expected Output\n",
    "# A chart where the validation loss does not increase sharply!"
   ]
  }
 ],
 "metadata": {
  "accelerator": "GPU",
  "colab": {
   "name": "NLP Course - Week 3 Exercise Answer.ipynb",
   "provenance": []
  },
  "kernelspec": {
   "display_name": "Python 3",
   "language": "python",
   "name": "python3"
  },
  "language_info": {
   "codemirror_mode": {
    "name": "ipython",
    "version": 3
   },
   "file_extension": ".py",
   "mimetype": "text/x-python",
   "name": "python",
   "nbconvert_exporter": "python",
   "pygments_lexer": "ipython3",
   "version": "3.7.4"
  }
 },
 "nbformat": 4,
 "nbformat_minor": 1
}
